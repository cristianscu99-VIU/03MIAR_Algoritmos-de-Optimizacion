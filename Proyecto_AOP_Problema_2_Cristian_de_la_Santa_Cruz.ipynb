{
  "nbformat": 4,
  "nbformat_minor": 0,
  "metadata": {
    "colab": {
      "provenance": [],
      "authorship_tag": "ABX9TyOkr3Dfk/RZfnwgPlbWmmXI",
      "include_colab_link": true
    },
    "kernelspec": {
      "name": "python3",
      "display_name": "Python 3"
    },
    "language_info": {
      "name": "python"
    }
  },
  "cells": [
    {
      "cell_type": "markdown",
      "metadata": {
        "id": "view-in-github",
        "colab_type": "text"
      },
      "source": [
        "<a href=\"https://colab.research.google.com/github/cristianscu99-VIU/AOP-ACT-1/blob/main/Proyecto_AOP_Problema_2_Cristian_de_la_Santa_Cruz.ipynb\" target=\"_parent\"><img src=\"https://colab.research.google.com/assets/colab-badge.svg\" alt=\"Open In Colab\"/></a>"
      ]
    },
    {
      "cell_type": "markdown",
      "source": [
        "# **Problema 2. Organizar los horarios de partidos de La Liga**"
      ],
      "metadata": {
        "id": "gKTFm2f1XFtm"
      }
    },
    {
      "cell_type": "markdown",
      "source": [
        "- Desde la La Liga de fútbol profesional se pretende organizar los horarios de los partidos de liga de cada jornada. Se conocen algunos datos que nos deben llevar a diseñar un algoritmo que realice la asignación de los partidos a los horarios de forma que maximice la audiencia.\n",
        "- Los horarios disponibles se conocen a priori y son los siguientes:"
      ],
      "metadata": {
        "id": "mrlwzkLsXMXA"
      }
    },
    {
      "cell_type": "code",
      "execution_count": 28,
      "metadata": {
        "colab": {
          "base_uri": "https://localhost:8080/"
        },
        "id": "-RnQ1j02W3IW",
        "outputId": "30f79856-535a-46b0-c781-ba1905c0efd5"
      },
      "outputs": [
        {
          "output_type": "execute_result",
          "data": {
            "text/plain": [
              "dict_keys(['Celta', 'Real Madrid', 'Valencia', 'R.Sociedad', 'Mallorca', 'Eibar', 'Athletic', 'Barcelona', 'Leganés', 'Osasuna', 'Villareal', 'Granada', 'Alavés', 'Levante', 'Espayol', 'Sevilla', 'Betis', 'Valladolid', 'Atlético', 'Getafe'])"
            ]
          },
          "metadata": {},
          "execution_count": 28
        }
      ],
      "source": [
        "Equipos = {'Celta' : 'B', 'Real Madrid' : 'A', 'Valencia' : 'B', 'R.Sociedad' : 'A', 'Mallorca' : 'C', 'Eibar' : 'C',\n",
        "           'Athletic' : 'B', 'Barcelona' : 'A', 'Leganés' : 'C', 'Osasuna' : 'C', 'Villareal' : 'B', 'Granada' : 'C',\n",
        "           'Alavés' : 'B', 'Levante' : 'B', 'Espayol' : 'B', 'Sevilla' : 'B', 'Betis' : 'B', 'Valladolid' : 'C', 'Atlético' : 'B',\n",
        "           'Getafe' : 'B'\n",
        "           }\n",
        "Equipos.keys()"
      ]
    },
    {
      "cell_type": "code",
      "source": [
        "Horas = [12,16,19,20]\n",
        "Dias = ['V','S','D','L']\n",
        "\n",
        "Reduccion = {'V20' : 0.4}\n",
        "Reduccion"
      ],
      "metadata": {
        "colab": {
          "base_uri": "https://localhost:8080/"
        },
        "id": "Yl3yehsXXyFx",
        "outputId": "b3b59e57-6c39-42d3-ad7c-c780c19f2400"
      },
      "execution_count": 31,
      "outputs": [
        {
          "output_type": "execute_result",
          "data": {
            "text/plain": [
              "{'V20': 0.4}"
            ]
          },
          "metadata": {},
          "execution_count": 31
        }
      ]
    },
    {
      "cell_type": "code",
      "source": [],
      "metadata": {
        "id": "LcyDb3Erbm_f"
      },
      "execution_count": null,
      "outputs": []
    }
  ]
}