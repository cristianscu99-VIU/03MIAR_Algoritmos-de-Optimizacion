{
  "nbformat": 4,
  "nbformat_minor": 0,
  "metadata": {
    "colab": {
      "provenance": [],
      "authorship_tag": "ABX9TyML5DEpbU3U0DL7GSEAgEi6",
      "include_colab_link": true
    },
    "kernelspec": {
      "name": "python3",
      "display_name": "Python 3"
    },
    "language_info": {
      "name": "python"
    }
  },
  "cells": [
    {
      "cell_type": "markdown",
      "metadata": {
        "id": "view-in-github",
        "colab_type": "text"
      },
      "source": [
        "<a href=\"https://colab.research.google.com/github/cristianscu99-VIU/AOP-ACT-1/blob/main/Algoritmos_AG1.ipynb\" target=\"_parent\"><img src=\"https://colab.research.google.com/assets/colab-badge.svg\" alt=\"Open In Colab\"/></a>"
      ]
    },
    {
      "cell_type": "markdown",
      "source": [
        "# Algoritmos - Actividad Guiada 1\n"
      ],
      "metadata": {
        "id": "yr2U7b2mUBos"
      }
    },
    {
      "cell_type": "markdown",
      "source": [
        "Nombre: Cristian de la Santa Cruz Urbano\n",
        "URL: https://github.com/cristianscu99-VIU/AOP-ACT-1"
      ],
      "metadata": {
        "id": "0RgOFoSjiGP2"
      }
    },
    {
      "cell_type": "markdown",
      "source": [
        "## Torres de Hanoi con Divide y Vencerás"
      ],
      "metadata": {
        "id": "KZI425likMXB"
      }
    },
    {
      "cell_type": "code",
      "execution_count": null,
      "metadata": {
        "colab": {
          "base_uri": "https://localhost:8080/"
        },
        "id": "lJTf8MGAT5lC",
        "outputId": "e08652b2-f0f7-461d-dd7a-e835459c039e"
      },
      "outputs": [
        {
          "output_type": "stream",
          "name": "stdout",
          "text": [
            "LLeva la ficha de la posición  1 hasta la posición  3\n",
            "LLeva la ficha de la posición  1 hasta la posición  2\n",
            "LLeva la ficha de la posición  3 hasta la posición  2\n",
            "LLeva la ficha de la posición  1 hasta la posición  3\n",
            "LLeva la ficha de la posición  2 hasta la posición  1\n",
            "LLeva la ficha de la posición  2 hasta la posición  3\n",
            "LLeva la ficha de la posición  1 hasta la posición  3\n"
          ]
        }
      ],
      "source": [
        "def Torres_Hanoi(N, desde, hasta):\n",
        "  if N == 1:\n",
        "    print(\"LLeva la ficha de la posición \",desde, \"hasta la posición \",hasta)\n",
        "\n",
        "  else:\n",
        "    # Torres_Hanoi (N-1, desde, 6-desde-hasta)\n",
        "    Torres_Hanoi(N-1, desde, 6-desde-hasta)\n",
        "    print(\"LLeva la ficha de la posición \",desde, \"hasta la posición \",hasta)\n",
        "    # Torres_Hanoi(N-1, 6-desde-hasta, hasta)\n",
        "    Torres_Hanoi(N-1, 6-desde-hasta, hasta)\n",
        "\n",
        "Torres_Hanoi(3,1,3)"
      ]
    },
    {
      "cell_type": "markdown",
      "source": [
        "O(2^k-1)"
      ],
      "metadata": {
        "id": "BPoqaDtoFYmC"
      }
    },
    {
      "cell_type": "markdown",
      "source": [
        "# Sucesión de Fibonacci"
      ],
      "metadata": {
        "id": "JbiKKP4ipriu"
      }
    },
    {
      "cell_type": "code",
      "source": [
        "# Sucesión de Fibonacci\n",
        "#https://es.wikipedia.org/wiki/Sucesi%C3%B3n_de_Fibonacci"
      ],
      "metadata": {
        "id": "c8EFg1mRUZ8t"
      },
      "execution_count": null,
      "outputs": []
    },
    {
      "cell_type": "code",
      "source": [
        "#Calculo del termino n-ésimo de la sucesión de Fibonacci\n",
        "#Complejidad O(2^n) - Recursividad\n",
        "def Fibonacci(N:int):\n",
        "  if N<2:\n",
        "    return N # Aquí hay una errata en el documento del profesor 'return 1'\n",
        "             # que hace que f_0 sea f_1 es decir devuelve Fibonacci(N+1)\n",
        "  else:\n",
        "    return Fibonacci(N-1)+Fibonacci(N-2)\n",
        "\n",
        "Fibonacci(9)"
      ],
      "metadata": {
        "id": "7cqemdjmpyDC",
        "outputId": "59b8ab0e-7aef-4bcf-aa87-90bc813732f1",
        "colab": {
          "base_uri": "https://localhost:8080/"
        }
      },
      "execution_count": null,
      "outputs": [
        {
          "output_type": "execute_result",
          "data": {
            "text/plain": [
              "34"
            ]
          },
          "metadata": {},
          "execution_count": 53
        }
      ]
    },
    {
      "cell_type": "markdown",
      "source": [
        "## Implementación de Mejoras"
      ],
      "metadata": {
        "id": "6hpiIu2srN9S"
      }
    },
    {
      "cell_type": "code",
      "source": [
        "# Complejidad O(n) - Método Iterativo\n",
        "def Fibo_iter(n):\n",
        "  f_0 = 0\n",
        "  f_1 = 1\n",
        "  if n<2:\n",
        "    return n\n",
        "\n",
        "  for i in range (2,n+1):\n",
        "    f_2 = f_0 + f_1\n",
        "    f_0 = f_1\n",
        "    f_1 = f_2\n",
        "  return f_2\n",
        "\n",
        "Fibo_iter(9)\n"
      ],
      "metadata": {
        "colab": {
          "base_uri": "https://localhost:8080/"
        },
        "id": "4gHfd3N7TGSM",
        "outputId": "e4ab0260-d1ad-4425-e4b3-5f0f1499d3f4"
      },
      "execution_count": null,
      "outputs": [
        {
          "output_type": "execute_result",
          "data": {
            "text/plain": [
              "34"
            ]
          },
          "metadata": {},
          "execution_count": 52
        }
      ]
    },
    {
      "cell_type": "markdown",
      "source": [
        "Versión Divide y Vencerás\n",
        "\n",
        "Partiendo de la ecuación:\n",
        "\n",
        "$$\n",
        "\\;\n",
        "\\left(\\,\n",
        "\\begin{bmatrix}\n",
        "0 & 1 \\\\\n",
        "1 & 1\n",
        "\\end{bmatrix}\n",
        "\\right)^{n}\n",
        "\\;=\\;\n",
        "\\begin{bmatrix}\n",
        "f_{n-1} & f_{n} \\\\\n",
        "f_{n} & f_{n+1}\n",
        "\\end{bmatrix}\n",
        "$$\n",
        "\n",
        "Realizamos la técnica de divide y vencerás convirtiendo la matriz n-ésima en productos de diferentes matrices de potencias de orden 1 y orden 2.\n",
        "\n",
        "$$\n",
        "x^{n} =\n",
        "\\begin{cases}\n",
        "x,        & n = 1,\\\\\n",
        "(x^{n/2})^2,              & n \\text{ es par},\\\\\n",
        "x*x^{n-1},     & n \\text{ es impar}.\n",
        "\\end{cases}\n",
        "$$"
      ],
      "metadata": {
        "id": "K0dvIZdZgVEc"
      }
    },
    {
      "cell_type": "code",
      "source": [
        "# Divide y Vencerás Fibonacci\n",
        "# Complejidad O(log(n))\n",
        "def Fibo_DV(n):\n",
        "  if n <= 0:\n",
        "    return 0\n",
        "  i = n-1\n",
        "  f0, f1 = 0, 1\n",
        "  a, b, c, d = f1, f0, f0, f1\n",
        "  while i > 0:\n",
        "    if i % 2 == 1: # es impar\n",
        "      f0 = d*b + c*a\n",
        "      f1 = d*(b+a)+c*b\n",
        "      a, b = f0, f1\n",
        "    f0 = c**2 + d**2\n",
        "    f1 = d*(2*c+d)\n",
        "    c,d = f0,f1\n",
        "    i=i//2\n",
        "  return a+b\n",
        "\n",
        "Fibo_DV(9)"
      ],
      "metadata": {
        "colab": {
          "base_uri": "https://localhost:8080/"
        },
        "id": "CL3-jMf2aFcA",
        "outputId": "58bbdd74-e51f-41cb-f18c-c4eb234e0718"
      },
      "execution_count": null,
      "outputs": [
        {
          "output_type": "execute_result",
          "data": {
            "text/plain": [
              "34"
            ]
          },
          "metadata": {},
          "execution_count": 51
        }
      ]
    },
    {
      "cell_type": "markdown",
      "source": [
        "**Fórmula de Binet**\n",
        "\n",
        "$$\n",
        "F_n = \\frac{\\varphi^n - \\psi^n}{\\sqrt{5}}\n",
        "$$\n",
        "\n",
        "$$\n",
        "\\varphi = \\frac{1 + \\sqrt{5}}{2},\n",
        "\\quad\n",
        "\\psi = \\frac{1 - \\sqrt{5}}{2}.\n",
        "$$"
      ],
      "metadata": {
        "id": "TeOMV-_RwbeA"
      }
    },
    {
      "cell_type": "code",
      "source": [
        "# Resolución a través de fórmula de Binet\n",
        "# Complejidad O(1)\n",
        "from math import sqrt\n",
        "def Fibo_Binet(n):\n",
        "  if n<2:\n",
        "    return n\n",
        "  else:\n",
        "    fi = (1 + sqrt(5)) / 2 # Proporción Aurea (Autovalores)\n",
        "    Fn = (fi**n - (1 - fi)**n) / sqrt(5)\n",
        "    return round(Fn)\n",
        "\n",
        "Fibo_Binet(9)"
      ],
      "metadata": {
        "id": "oHFMbDyxo96z",
        "outputId": "5c01ef1b-f654-49d8-c86b-e6cf05189cd9",
        "colab": {
          "base_uri": "https://localhost:8080/"
        }
      },
      "execution_count": null,
      "outputs": [
        {
          "output_type": "execute_result",
          "data": {
            "text/plain": [
              "34"
            ]
          },
          "metadata": {},
          "execution_count": 50
        }
      ]
    },
    {
      "cell_type": "markdown",
      "source": [
        "# Devolución de cambio por técnica Voraz"
      ],
      "metadata": {
        "id": "2oN0IoVXxsDl"
      }
    },
    {
      "cell_type": "code",
      "source": [
        "def cambio_monedas(N, SM):\n",
        "  SOLUCION = [0]*len(SM) # Creamos un vector de 0s de igual longitud que esl Sistema Monetario\n",
        "                         # SOLUCION = [0,0,...,0]\n",
        "  valorAcumulado = 0\n",
        "\n",
        "  for i, valor in enumerate (SM):\n",
        "    monedas = (N-valorAcumulado)// valor\n",
        "    SOLUCION[i] = monedas\n",
        "    valorAcumulado += monedas*valor\n",
        "\n",
        "    if valorAcumulado == N:\n",
        "      return SOLUCION\n",
        "\n",
        "cambio_monedas(15,[25,10,5,1])"
      ],
      "metadata": {
        "id": "Xd_vFiTcxzpM",
        "outputId": "3239e024-b1bb-48f2-fe86-f02ad0752f75",
        "colab": {
          "base_uri": "https://localhost:8080/"
        }
      },
      "execution_count": null,
      "outputs": [
        {
          "output_type": "execute_result",
          "data": {
            "text/plain": [
              "[0, 1, 1, 0]"
            ]
          },
          "metadata": {},
          "execution_count": 63
        }
      ]
    },
    {
      "cell_type": "code",
      "source": [
        "def cambio_monedas(N, SM):\n",
        "  SOLUCION = [0]*len(SM) # Creamos un vector de 0s de igual longitud que esl Sistema Monetario\n",
        "                         # SOLUCION = [0,0,...,0]\n",
        "  valorAcumulado = 0\n",
        "\n",
        "  for i, valor in enumerate (SM):\n",
        "    monedas = (N-valorAcumulado)// valor\n",
        "    SOLUCION[i] = monedas\n",
        "    valorAcumulado += monedas*valor\n",
        "\n",
        "    if valorAcumulado == N:\n",
        "      return SOLUCION\n",
        "    #MEJORA Ej: cambio_monedas(6,[25,10,5,2])\n",
        "    elif ((valorAcumulado != N) and i == len(SM)-1):\n",
        "      print(f'El sistema monetario no permite que exista una solución exacta para la cifra {N}')\n",
        "\n",
        "cambio_monedas(15,[25,10,5,1])"
      ],
      "metadata": {
        "id": "61qXSfUK0twO",
        "outputId": "31c416a1-2d93-4700-b42f-02104e250da7",
        "colab": {
          "base_uri": "https://localhost:8080/"
        }
      },
      "execution_count": null,
      "outputs": [
        {
          "output_type": "execute_result",
          "data": {
            "text/plain": [
              "[0, 1, 1, 0]"
            ]
          },
          "metadata": {},
          "execution_count": 82
        }
      ]
    },
    {
      "cell_type": "markdown",
      "source": [
        "## Metodos de Ordención de Listas"
      ],
      "metadata": {
        "id": "OVlSP9WlPtfb"
      }
    },
    {
      "cell_type": "code",
      "source": [
        "def insercion(SM:list): # da error\n",
        "  # Función de ordenación por inserción\n",
        "  set_elemento = SM[0] #[34] fijo\n",
        "  indice = 0\n",
        "  # for indice, valor in enumerate(SM): #[34,45,44,47] indice = 3, valor = 47\n",
        "  while indice < len(SM):\n",
        "    valor = SM[indice]\n",
        "\n",
        "    if valor > set_elemento: # 47 > 34\n",
        "      for indice_return in range (indice-1, -1, -1): # 0\n",
        "        if (indice_return > 0 and valor > SM[indice_return] and valor <= SM[indice_return-1]) or indice_return == 0: #47 > 45 & 47 <_ | indice_return = 0\n",
        "          SM.pop(indice) # [45, 44, 34]\n",
        "          SM.insert(indice_return, valor) # [47, 45, 44, 34]\n",
        "          print(SM)\n",
        "\n",
        "    elif valor <= set_elemento:\n",
        "      set_elemento = valor\n",
        "    indice += 1\n",
        "\n",
        "  return SM\n",
        "\n",
        "insercion([34,45,44,47])\n"
      ],
      "metadata": {
        "id": "bTWSF80k1qny",
        "outputId": "7eb85199-3eba-4d0d-8b3d-76f0e063e0c6",
        "colab": {
          "base_uri": "https://localhost:8080/"
        }
      },
      "execution_count": 24,
      "outputs": [
        {
          "output_type": "stream",
          "name": "stdout",
          "text": [
            "[45, 34, 44, 47]\n",
            "[45, 44, 34, 47]\n",
            "[44, 45, 44, 47]\n",
            "[47, 44, 45, 44]\n"
          ]
        },
        {
          "output_type": "execute_result",
          "data": {
            "text/plain": [
              "[47, 44, 45, 44]"
            ]
          },
          "metadata": {},
          "execution_count": 24
        }
      ]
    },
    {
      "cell_type": "code",
      "source": [
        "def insercion(SM:list): # da error\n",
        "  # Función de ordenación por inserción\n",
        "  set_elemento = SM[0] #[34] fijo\n",
        "  # for indice, valor in enumerate(SM): #[34,45,44,47] indice = 3, valor = 47\n",
        "  for indice, valor in enumerate(SM):\n",
        "    if valor > set_elemento: # 47 > 34\n",
        "      for indice_return in range (indice-1, -1, -1): # 0\n",
        "        if (indice_return > 0 and valor > SM[indice_return] and valor <= SM[indice_return-1]) or indice_return == 0: #47 > 45 & 47 <_ | indice_return = 0\n",
        "          SM.pop(indice) # [45, 44, 34]\n",
        "          SM.insert(indice_return, valor) # [47, 45, 44, 34]\n",
        "          print(SM)\n",
        "\n",
        "    elif valor <= set_elemento:\n",
        "      set_elemento = valor\n",
        "\n",
        "  return SM\n",
        "\n",
        "insercion([34,45,44,47])"
      ],
      "metadata": {
        "id": "Co2SmORxB6R2",
        "outputId": "5fa747bc-78b0-4ac2-ebe5-cfb92fc3f3d7",
        "colab": {
          "base_uri": "https://localhost:8080/"
        }
      },
      "execution_count": 25,
      "outputs": [
        {
          "output_type": "stream",
          "name": "stdout",
          "text": [
            "[45, 34, 44, 47]\n",
            "[45, 44, 34, 47]\n",
            "[44, 45, 44, 47]\n",
            "[47, 44, 45, 44]\n"
          ]
        },
        {
          "output_type": "execute_result",
          "data": {
            "text/plain": [
              "[47, 44, 45, 44]"
            ]
          },
          "metadata": {},
          "execution_count": 25
        }
      ]
    },
    {
      "cell_type": "code",
      "source": [
        "def insercion(SM: list):\n",
        "    for i in range(1, len(SM)):\n",
        "        valor = SM[i]\n",
        "        j = i - 1\n",
        "        # Mover todos los elementos mayores que valor hacia adelante\n",
        "        while j >= 0 and valor > SM[j]:\n",
        "            j -= 1\n",
        "        # Eliminar el valor original e insertarlo en la nueva posición\n",
        "        SM.pop(i)\n",
        "        SM.insert(j + 1, valor)\n",
        "    return SM\n",
        "\n",
        "print(insercion([34, 45, 44, 47]))"
      ],
      "metadata": {
        "id": "SGaHW4zbJma_",
        "outputId": "7c870eb4-7ebe-4181-8437-75bd2a46ca5f",
        "colab": {
          "base_uri": "https://localhost:8080/"
        }
      },
      "execution_count": 28,
      "outputs": [
        {
          "output_type": "stream",
          "name": "stdout",
          "text": [
            "[47, 45, 44, 34]\n"
          ]
        }
      ]
    },
    {
      "cell_type": "code",
      "source": [],
      "metadata": {
        "id": "wq8BUmuTKN8n"
      },
      "execution_count": null,
      "outputs": []
    },
    {
      "cell_type": "markdown",
      "source": [
        "# N-Reinas por técnica de vuelta atrás"
      ],
      "metadata": {
        "id": "touk2M46QTkO"
      }
    },
    {
      "cell_type": "code",
      "source": [
        "def escribe(S):\n",
        "  n = len (S)\n",
        "  for x in range(n):\n",
        "    print(\"\")\n",
        "    for i in range(n):\n",
        "      if S[i] == x+1:\n",
        "        print(\" X \", end=\"\")\n",
        "      else:\n",
        "        print(\" - \", end=\"\")\n",
        "\n",
        "def es_prometedora(SOLUCION, etapa):\n",
        "  #print(SOLUCION)\n",
        "  #SI la solución tiene dos valores iguales no es valida => Dos reinas en la misma fila\n",
        "  for i in range(etapa+1):\n",
        "    #print(\"El valor\" + str(SOLUCION[i])) + \"está\" + str(SOLUCION.count(SOLUCION[i])) + \"veces\")\n",
        "    if SOLUCION.count(SOLUCION[i]) > 1:\n",
        "      return False\n",
        "\n",
        "    # Verifica las diagonalesç\n",
        "    for j in range(i+1, etapa+1):\n",
        "      #print(\"Comprobando diagonal de \" + str(i) + \" y \" + str(j))\n",
        "      if abs(i-j) == abs(SOLUCION[i]-SOLUCION[j]) : return False\n",
        "  return True\n",
        "\n",
        "def reinas(N, solucion=[], etapa=0):\n",
        "  if len(solucion) == 0:\n",
        "    solucion=[0 for i in range(N)]\n",
        "\n",
        "  for i in range(1, N+1):\n",
        "    solucion[etapa] = i\n",
        "\n",
        "    if es_prometedora(solucion, etapa):\n",
        "      if etapa == N-1:\n",
        "        print(solucion)\n",
        "        escribe(solucion)\n",
        "        print()\n",
        "      else:\n",
        "        reinas(N,solucion, etapa+1)\n",
        "    else:\n",
        "      None\n",
        "\n",
        "    solucion[etapa] = 0\n",
        "\n",
        "reinas(5)\n",
        "\n",
        "\n",
        ""
      ],
      "metadata": {
        "id": "qAvTxvsUQXhC",
        "outputId": "11d38878-2ba3-4cf7-921a-08db73c810bd",
        "colab": {
          "base_uri": "https://localhost:8080/"
        }
      },
      "execution_count": 38,
      "outputs": [
        {
          "output_type": "stream",
          "name": "stdout",
          "text": [
            "[1, 3, 5, 2, 4]\n",
            "\n",
            " X  -  -  -  - \n",
            " -  -  -  X  - \n",
            " -  X  -  -  - \n",
            " -  -  -  -  X \n",
            " -  -  X  -  - \n",
            "[1, 4, 2, 5, 3]\n",
            "\n",
            " X  -  -  -  - \n",
            " -  -  X  -  - \n",
            " -  -  -  -  X \n",
            " -  X  -  -  - \n",
            " -  -  -  X  - \n",
            "[2, 4, 1, 3, 5]\n",
            "\n",
            " -  -  X  -  - \n",
            " X  -  -  -  - \n",
            " -  -  -  X  - \n",
            " -  X  -  -  - \n",
            " -  -  -  -  X \n",
            "[2, 5, 3, 1, 4]\n",
            "\n",
            " -  -  -  X  - \n",
            " X  -  -  -  - \n",
            " -  -  X  -  - \n",
            " -  -  -  -  X \n",
            " -  X  -  -  - \n",
            "[3, 1, 4, 2, 5]\n",
            "\n",
            " -  X  -  -  - \n",
            " -  -  -  X  - \n",
            " X  -  -  -  - \n",
            " -  -  X  -  - \n",
            " -  -  -  -  X \n",
            "[3, 5, 2, 4, 1]\n",
            "\n",
            " -  -  -  -  X \n",
            " -  -  X  -  - \n",
            " X  -  -  -  - \n",
            " -  -  -  X  - \n",
            " -  X  -  -  - \n",
            "[4, 1, 3, 5, 2]\n",
            "\n",
            " -  X  -  -  - \n",
            " -  -  -  -  X \n",
            " -  -  X  -  - \n",
            " X  -  -  -  - \n",
            " -  -  -  X  - \n",
            "[4, 2, 5, 3, 1]\n",
            "\n",
            " -  -  -  -  X \n",
            " -  X  -  -  - \n",
            " -  -  -  X  - \n",
            " X  -  -  -  - \n",
            " -  -  X  -  - \n",
            "[5, 2, 4, 1, 3]\n",
            "\n",
            " -  -  -  X  - \n",
            " -  X  -  -  - \n",
            " -  -  -  -  X \n",
            " -  -  X  -  - \n",
            " X  -  -  -  - \n",
            "[5, 3, 1, 4, 2]\n",
            "\n",
            " -  -  X  -  - \n",
            " -  -  -  -  X \n",
            " -  X  -  -  - \n",
            " -  -  -  X  - \n",
            " X  -  -  -  - \n"
          ]
        }
      ]
    },
    {
      "cell_type": "code",
      "source": [],
      "metadata": {
        "id": "1SETA0ZlUo4H"
      },
      "execution_count": null,
      "outputs": []
    }
  ]
}