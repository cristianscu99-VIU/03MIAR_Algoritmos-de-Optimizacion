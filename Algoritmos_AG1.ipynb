{
  "nbformat": 4,
  "nbformat_minor": 0,
  "metadata": {
    "colab": {
      "provenance": [],
      "authorship_tag": "ABX9TyOcw5JJW7YC+Bh2492A6zAn",
      "include_colab_link": true
    },
    "kernelspec": {
      "name": "python3",
      "display_name": "Python 3"
    },
    "language_info": {
      "name": "python"
    }
  },
  "cells": [
    {
      "cell_type": "markdown",
      "metadata": {
        "id": "view-in-github",
        "colab_type": "text"
      },
      "source": [
        "<a href=\"https://colab.research.google.com/github/cristianscu99-VIU/AOP-ACT-1/blob/main/Algoritmos_AG1.ipynb\" target=\"_parent\"><img src=\"https://colab.research.google.com/assets/colab-badge.svg\" alt=\"Open In Colab\"/></a>"
      ]
    },
    {
      "cell_type": "markdown",
      "source": [
        "# Algoritmos - Actividad Guiada 1\n"
      ],
      "metadata": {
        "id": "yr2U7b2mUBos"
      }
    },
    {
      "cell_type": "markdown",
      "source": [
        "Nombre: Cristian de la Santa Cruz Urbano\n",
        "URL: https://github.com/cristianscu99-VIU/AOP-ACT-1"
      ],
      "metadata": {
        "id": "0RgOFoSjiGP2"
      }
    },
    {
      "cell_type": "markdown",
      "source": [
        "## Torres de Hanoi con Divide y Vencerás"
      ],
      "metadata": {
        "id": "KZI425likMXB"
      }
    },
    {
      "cell_type": "code",
      "execution_count": 4,
      "metadata": {
        "colab": {
          "base_uri": "https://localhost:8080/"
        },
        "id": "lJTf8MGAT5lC",
        "outputId": "e08652b2-f0f7-461d-dd7a-e835459c039e"
      },
      "outputs": [
        {
          "output_type": "stream",
          "name": "stdout",
          "text": [
            "LLeva la ficha de la posición  1 hasta la posición  3\n",
            "LLeva la ficha de la posición  1 hasta la posición  2\n",
            "LLeva la ficha de la posición  3 hasta la posición  2\n",
            "LLeva la ficha de la posición  1 hasta la posición  3\n",
            "LLeva la ficha de la posición  2 hasta la posición  1\n",
            "LLeva la ficha de la posición  2 hasta la posición  3\n",
            "LLeva la ficha de la posición  1 hasta la posición  3\n"
          ]
        }
      ],
      "source": [
        "def Torres_Hanoi(N, desde, hasta):\n",
        "  if N == 1:\n",
        "    print(\"LLeva la ficha de la posición \",desde, \"hasta la posición \",hasta)\n",
        "\n",
        "  else:\n",
        "    # Torres_Hanoi (N-1, desde, 6-desde-hasta)\n",
        "    Torres_Hanoi(N-1, desde, 6-desde-hasta)\n",
        "    print(\"LLeva la ficha de la posición \",desde, \"hasta la posición \",hasta)\n",
        "    # Torres_Hanoi(N-1, 6-desde-hasta, hasta)\n",
        "    Torres_Hanoi(N-1, 6-desde-hasta, hasta)\n",
        "\n",
        "Torres_Hanoi(3,1,3)"
      ]
    },
    {
      "cell_type": "markdown",
      "source": [
        "O(2^k-1)"
      ],
      "metadata": {
        "id": "BPoqaDtoFYmC"
      }
    },
    {
      "cell_type": "code",
      "source": [
        "# Sucesión de Fibonacci\n",
        "#https://es.wikipedia.org/wiki/Sucesi%C3%B3n_de_Fibonacci"
      ],
      "metadata": {
        "id": "c8EFg1mRUZ8t"
      },
      "execution_count": null,
      "outputs": []
    },
    {
      "cell_type": "code",
      "source": [
        "def Fibo(n):\n",
        "  f_0 = 0\n",
        "  f_1 = 1\n",
        "  if n<2:\n",
        "    return n\n",
        "\n",
        "  for i in range (2,n+1):\n",
        "    f_2 = f_0 + f_1\n",
        "    f_0 = f_1\n",
        "    f_1 = f_2\n",
        "  return f_2\n",
        "\n",
        "Fibo(8)\n"
      ],
      "metadata": {
        "id": "4gHfd3N7TGSM",
        "outputId": "963c8ad3-4502-48d8-8f43-2f13dd929031",
        "colab": {
          "base_uri": "https://localhost:8080/"
        }
      },
      "execution_count": 25,
      "outputs": [
        {
          "output_type": "execute_result",
          "data": {
            "text/plain": [
              "21"
            ]
          },
          "metadata": {},
          "execution_count": 25
        }
      ]
    },
    {
      "cell_type": "code",
      "source": [
        "from math import sqrt\n",
        "def Fibo(n):\n",
        "  if n<2:\n",
        "    return n\n",
        "  else:\n",
        "    fi = (1 + sqrt(5)) / 2\n",
        "    Fn = (fi**n - (1 - fi)**n) / sqrt(5)\n",
        "    return round(Fn)\n",
        "\n",
        "Fibo(8)"
      ],
      "metadata": {
        "id": "5OBDNZxsZH_P",
        "outputId": "851045e4-e183-400a-939f-9217d7029195",
        "colab": {
          "base_uri": "https://localhost:8080/"
        }
      },
      "execution_count": 26,
      "outputs": [
        {
          "output_type": "execute_result",
          "data": {
            "text/plain": [
              "21"
            ]
          },
          "metadata": {},
          "execution_count": 26
        }
      ]
    },
    {
      "cell_type": "code",
      "source": [
        "# Divide y Vencerás Fibonacci\n",
        "def Fibo(n):\n",
        ""
      ],
      "metadata": {
        "id": "CL3-jMf2aFcA",
        "outputId": "296b1ae8-1f8b-4816-e7b5-5871ee72f5e8",
        "colab": {
          "base_uri": "https://localhost:8080/",
          "height": 106
        }
      },
      "execution_count": 15,
      "outputs": [
        {
          "output_type": "error",
          "ename": "SyntaxError",
          "evalue": "invalid character '√' (U+221A) (<ipython-input-15-d098f9a27536>, line 2)",
          "traceback": [
            "\u001b[0;36m  File \u001b[0;32m\"<ipython-input-15-d098f9a27536>\"\u001b[0;36m, line \u001b[0;32m2\u001b[0m\n\u001b[0;31m    Fn = ((1 + √5) / 2)^n - ((1 - √5) / 2)^n / √5\u001b[0m\n\u001b[0m               ^\u001b[0m\n\u001b[0;31mSyntaxError\u001b[0m\u001b[0;31m:\u001b[0m invalid character '√' (U+221A)\n"
          ]
        }
      ]
    },
    {
      "cell_type": "code",
      "source": [],
      "metadata": {
        "id": "jMqZODcylR8I"
      },
      "execution_count": null,
      "outputs": []
    }
  ]
}