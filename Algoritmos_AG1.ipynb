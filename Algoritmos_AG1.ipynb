{
  "nbformat": 4,
  "nbformat_minor": 0,
  "metadata": {
    "colab": {
      "provenance": [],
      "authorship_tag": "ABX9TyMCgAIMMV2x3c4khN7BLmyB",
      "include_colab_link": true
    },
    "kernelspec": {
      "name": "python3",
      "display_name": "Python 3"
    },
    "language_info": {
      "name": "python"
    }
  },
  "cells": [
    {
      "cell_type": "markdown",
      "metadata": {
        "id": "view-in-github",
        "colab_type": "text"
      },
      "source": [
        "<a href=\"https://colab.research.google.com/github/cristianscu99-VIU/AOP-ACT-1/blob/main/Algoritmos_AG1.ipynb\" target=\"_parent\"><img src=\"https://colab.research.google.com/assets/colab-badge.svg\" alt=\"Open In Colab\"/></a>"
      ]
    },
    {
      "cell_type": "markdown",
      "source": [
        "# Algoritmos - Actividad Guiada 1\n"
      ],
      "metadata": {
        "id": "yr2U7b2mUBos"
      }
    },
    {
      "cell_type": "markdown",
      "source": [
        "Nombre: Cristian de la Santa Cruz Urbano\n",
        "URL: https://github.com/cristianscu99-VIU/AOP-ACT-1"
      ],
      "metadata": {
        "id": "0RgOFoSjiGP2"
      }
    },
    {
      "cell_type": "markdown",
      "source": [
        "## Torres de Hanoi con Divide y Vencerás"
      ],
      "metadata": {
        "id": "KZI425likMXB"
      }
    },
    {
      "cell_type": "code",
      "execution_count": 4,
      "metadata": {
        "colab": {
          "base_uri": "https://localhost:8080/"
        },
        "id": "lJTf8MGAT5lC",
        "outputId": "e08652b2-f0f7-461d-dd7a-e835459c039e"
      },
      "outputs": [
        {
          "output_type": "stream",
          "name": "stdout",
          "text": [
            "LLeva la ficha de la posición  1 hasta la posición  3\n",
            "LLeva la ficha de la posición  1 hasta la posición  2\n",
            "LLeva la ficha de la posición  3 hasta la posición  2\n",
            "LLeva la ficha de la posición  1 hasta la posición  3\n",
            "LLeva la ficha de la posición  2 hasta la posición  1\n",
            "LLeva la ficha de la posición  2 hasta la posición  3\n",
            "LLeva la ficha de la posición  1 hasta la posición  3\n"
          ]
        }
      ],
      "source": [
        "def Torres_Hanoi(N, desde, hasta):\n",
        "  if N == 1:\n",
        "    print(\"LLeva la ficha de la posición \",desde, \"hasta la posición \",hasta)\n",
        "\n",
        "  else:\n",
        "    # Torres_Hanoi (N-1, desde, 6-desde-hasta)\n",
        "    Torres_Hanoi(N-1, desde, 6-desde-hasta)\n",
        "    print(\"LLeva la ficha de la posición \",desde, \"hasta la posición \",hasta)\n",
        "    # Torres_Hanoi(N-1, 6-desde-hasta, hasta)\n",
        "    Torres_Hanoi(N-1, 6-desde-hasta, hasta)\n",
        "\n",
        "Torres_Hanoi(3,1,3)"
      ]
    },
    {
      "cell_type": "markdown",
      "source": [
        "O(2^k-1)"
      ],
      "metadata": {
        "id": "BPoqaDtoFYmC"
      }
    },
    {
      "cell_type": "markdown",
      "source": [
        "# Sucesión de Fibonacci"
      ],
      "metadata": {
        "id": "JbiKKP4ipriu"
      }
    },
    {
      "cell_type": "code",
      "source": [
        "# Sucesión de Fibonacci\n",
        "#https://es.wikipedia.org/wiki/Sucesi%C3%B3n_de_Fibonacci"
      ],
      "metadata": {
        "id": "c8EFg1mRUZ8t"
      },
      "execution_count": 48,
      "outputs": []
    },
    {
      "cell_type": "code",
      "source": [
        "#Calculo del termino n-ésimo de la sucesión de Fibonacci\n",
        "#Complejidad O(2^n) - Recursividad\n",
        "def Fibonacci(N:int):\n",
        "  if N<2:\n",
        "    return N # Aquí hay una errata en el documento del profesor 'return 1'\n",
        "             # que hace que f_0 sea f_1 es decir devuelve Fibonacci(N+1)\n",
        "  else:\n",
        "    return Fibonacci(N-1)+Fibonacci(N-2)\n",
        "\n",
        "Fibonacci(9)"
      ],
      "metadata": {
        "id": "7cqemdjmpyDC",
        "outputId": "59b8ab0e-7aef-4bcf-aa87-90bc813732f1",
        "colab": {
          "base_uri": "https://localhost:8080/"
        }
      },
      "execution_count": 53,
      "outputs": [
        {
          "output_type": "execute_result",
          "data": {
            "text/plain": [
              "34"
            ]
          },
          "metadata": {},
          "execution_count": 53
        }
      ]
    },
    {
      "cell_type": "markdown",
      "source": [
        "## Implementación de Mejoras"
      ],
      "metadata": {
        "id": "6hpiIu2srN9S"
      }
    },
    {
      "cell_type": "code",
      "source": [
        "# Complejidad O(n) - Método Iterativo\n",
        "def Fibo_iter(n):\n",
        "  f_0 = 0\n",
        "  f_1 = 1\n",
        "  if n<2:\n",
        "    return n\n",
        "\n",
        "  for i in range (2,n+1):\n",
        "    f_2 = f_0 + f_1\n",
        "    f_0 = f_1\n",
        "    f_1 = f_2\n",
        "  return f_2\n",
        "\n",
        "Fibo_iter(9)\n"
      ],
      "metadata": {
        "colab": {
          "base_uri": "https://localhost:8080/"
        },
        "id": "4gHfd3N7TGSM",
        "outputId": "e4ab0260-d1ad-4425-e4b3-5f0f1499d3f4"
      },
      "execution_count": 52,
      "outputs": [
        {
          "output_type": "execute_result",
          "data": {
            "text/plain": [
              "34"
            ]
          },
          "metadata": {},
          "execution_count": 52
        }
      ]
    },
    {
      "cell_type": "markdown",
      "source": [
        "Versión Divide y Vencerás\n",
        "\n",
        "Partiendo de la ecuación:\n",
        "\n",
        "$$\n",
        "\\;\n",
        "\\left(\\,\n",
        "\\begin{bmatrix}\n",
        "0 & 1 \\\\\n",
        "1 & 1\n",
        "\\end{bmatrix}\n",
        "\\right)^{n}\n",
        "\\;=\\;\n",
        "\\begin{bmatrix}\n",
        "f_{n-1} & f_{n} \\\\\n",
        "f_{n} & f_{n+1}\n",
        "\\end{bmatrix}\n",
        "$$\n",
        "\n",
        "Realizamos la técnica de divide y vencerás convirtiendo la matriz n-ésima en productos de diferentes matrices de potencias de orden 1 y orden 2.\n",
        "\n",
        "$$\n",
        "x^{n} =\n",
        "\\begin{cases}\n",
        "x,        & n = 1,\\\\\n",
        "(x^{n/2})^2,              & n \\text{ es par},\\\\\n",
        "x*x^{n-1},     & n \\text{ es impar}.\n",
        "\\end{cases}\n",
        "$$"
      ],
      "metadata": {
        "id": "K0dvIZdZgVEc"
      }
    },
    {
      "cell_type": "code",
      "source": [
        "# Divide y Vencerás Fibonacci\n",
        "# Complejidad O(log(n))\n",
        "def Fibo_DV(n):\n",
        "  if n <= 0:\n",
        "    return 0\n",
        "  i = n-1\n",
        "  f0, f1 = 0, 1\n",
        "  a, b, c, d = f1, f0, f0, f1\n",
        "  while i > 0:\n",
        "    if i % 2 == 1: # es impar\n",
        "      f0 = d*b + c*a\n",
        "      f1 = d*(b+a)+c*b\n",
        "      a, b = f0, f1\n",
        "    f0 = c**2 + d**2\n",
        "    f1 = d*(2*c+d)\n",
        "    c,d = f0,f1\n",
        "    i=i//2\n",
        "  return a+b\n",
        "\n",
        "Fibo_DV(9)"
      ],
      "metadata": {
        "colab": {
          "base_uri": "https://localhost:8080/"
        },
        "id": "CL3-jMf2aFcA",
        "outputId": "58bbdd74-e51f-41cb-f18c-c4eb234e0718"
      },
      "execution_count": 51,
      "outputs": [
        {
          "output_type": "execute_result",
          "data": {
            "text/plain": [
              "34"
            ]
          },
          "metadata": {},
          "execution_count": 51
        }
      ]
    },
    {
      "cell_type": "markdown",
      "source": [
        "**Fórmula de Binet**\n",
        "\n",
        "$$\n",
        "F_n = \\frac{\\varphi^n - \\psi^n}{\\sqrt{5}}\n",
        "$$\n",
        "\n",
        "$$\n",
        "\\varphi = \\frac{1 + \\sqrt{5}}{2},\n",
        "\\quad\n",
        "\\psi = \\frac{1 - \\sqrt{5}}{2}.\n",
        "$$"
      ],
      "metadata": {
        "id": "TeOMV-_RwbeA"
      }
    },
    {
      "cell_type": "code",
      "source": [
        "# Resolución a través de fórmula de Binet\n",
        "# Complejidad O(1)\n",
        "from math import sqrt\n",
        "def Fibo_Binet(n):\n",
        "  if n<2:\n",
        "    return n\n",
        "  else:\n",
        "    fi = (1 + sqrt(5)) / 2 # Proporción Aurea (Autovalores)\n",
        "    Fn = (fi**n - (1 - fi)**n) / sqrt(5)\n",
        "    return round(Fn)\n",
        "\n",
        "Fibo_Binet(9)"
      ],
      "metadata": {
        "id": "oHFMbDyxo96z",
        "outputId": "5c01ef1b-f654-49d8-c86b-e6cf05189cd9",
        "colab": {
          "base_uri": "https://localhost:8080/"
        }
      },
      "execution_count": 50,
      "outputs": [
        {
          "output_type": "execute_result",
          "data": {
            "text/plain": [
              "34"
            ]
          },
          "metadata": {},
          "execution_count": 50
        }
      ]
    },
    {
      "cell_type": "markdown",
      "source": [
        "# Devolución de cambio por técnica Voraz"
      ],
      "metadata": {
        "id": "2oN0IoVXxsDl"
      }
    },
    {
      "cell_type": "code",
      "source": [
        "def cambio_monedas(N, SM):\n",
        "  SOLUCION = [0]*len(SM) # Creamos un vector de 0s de igual longitud que esl Sistema Monetario\n",
        "                         # SOLUCION = [0,0,...,0]\n",
        "  valorAcumulado = 0\n",
        "\n",
        "  for i, valor in enumerate (SM):\n",
        "    monedas = (N-valorAcumulado)// valor\n",
        "    SOLUCION[i] = monedas\n",
        "    valorAcumulado += monedas*valor\n",
        "\n",
        "    if valorAcumulado == N:\n",
        "      return SOLUCION\n",
        "\n",
        "cambio_monedas(15,[25,10,5,1])"
      ],
      "metadata": {
        "id": "Xd_vFiTcxzpM",
        "outputId": "3239e024-b1bb-48f2-fe86-f02ad0752f75",
        "colab": {
          "base_uri": "https://localhost:8080/"
        }
      },
      "execution_count": 63,
      "outputs": [
        {
          "output_type": "execute_result",
          "data": {
            "text/plain": [
              "[0, 1, 1, 0]"
            ]
          },
          "metadata": {},
          "execution_count": 63
        }
      ]
    },
    {
      "cell_type": "code",
      "source": [
        "def cambio_monedas(N, SM):\n",
        "  SOLUCION = [0]*len(SM) # Creamos un vector de 0s de igual longitud que esl Sistema Monetario\n",
        "                         # SOLUCION = [0,0,...,0]\n",
        "  valorAcumulado = 0\n",
        "\n",
        "  for i, valor in enumerate (SM):\n",
        "    monedas = (N-valorAcumulado)// valor\n",
        "    SOLUCION[i] = monedas\n",
        "    valorAcumulado += monedas*valor\n",
        "\n",
        "    if valorAcumulado == N:\n",
        "      return SOLUCION\n",
        "    #MEJORA Ej: cambio_monedas(6,[25,10,5,2])\n",
        "    elif ((valorAcumulado != N) and i == len(SM)-1):\n",
        "      print(f'El sistema monetario no permite que exista una solución exacta para la cifra {N}')\n",
        "\n",
        "cambio_monedas(15,[25,10,5,1])"
      ],
      "metadata": {
        "id": "61qXSfUK0twO",
        "outputId": "31c416a1-2d93-4700-b42f-02104e250da7",
        "colab": {
          "base_uri": "https://localhost:8080/"
        }
      },
      "execution_count": 82,
      "outputs": [
        {
          "output_type": "execute_result",
          "data": {
            "text/plain": [
              "[0, 1, 1, 0]"
            ]
          },
          "metadata": {},
          "execution_count": 82
        }
      ]
    },
    {
      "cell_type": "code",
      "source": [
        "def insercion(SM:list):\n",
        "  # Función de ordenación por inserción\n",
        "  set_indice = 0\n",
        "  set_elemento = SM[set_indice] #[25] fijo\n",
        "  for indice, valor in enumerate(SM): #[25,100,50,10]\n",
        "    if SM[indice] < set_elemento:\n",
        "      set_elemento = SM[indice]  #[25]\n",
        "    if valor > set_elemento: # 100 > 25\n",
        "      new_max = SM.pop(indice) # elimino 100 [25,50,10]\n",
        "      for indice_insert in range (indice, 1, -1):\n",
        "        if new_max < SM[indice_insert] or indice_insert == 0: #y\n",
        "          SM.insert(indice_insert, new_max) #[100,25,50,10]\n",
        "  return SM\n",
        "\n",
        "insercion([34,45,44,47])\n"
      ],
      "metadata": {
        "id": "bTWSF80k1qny",
        "outputId": "a4baa135-139e-466c-f89d-9217e9598db3",
        "colab": {
          "base_uri": "https://localhost:8080/",
          "height": 297
        }
      },
      "execution_count": 124,
      "outputs": [
        {
          "output_type": "error",
          "ename": "IndexError",
          "evalue": "list index out of range",
          "traceback": [
            "\u001b[0;31m---------------------------------------------------------------------------\u001b[0m",
            "\u001b[0;31mIndexError\u001b[0m                                Traceback (most recent call last)",
            "\u001b[0;32m<ipython-input-124-d04cdd26cc21>\u001b[0m in \u001b[0;36m<cell line: 0>\u001b[0;34m()\u001b[0m\n\u001b[1;32m     13\u001b[0m   \u001b[0;32mreturn\u001b[0m \u001b[0mSM\u001b[0m\u001b[0;34m\u001b[0m\u001b[0;34m\u001b[0m\u001b[0m\n\u001b[1;32m     14\u001b[0m \u001b[0;34m\u001b[0m\u001b[0m\n\u001b[0;32m---> 15\u001b[0;31m \u001b[0minsercion\u001b[0m\u001b[0;34m(\u001b[0m\u001b[0;34m[\u001b[0m\u001b[0;36m34\u001b[0m\u001b[0;34m,\u001b[0m\u001b[0;36m45\u001b[0m\u001b[0;34m,\u001b[0m\u001b[0;36m44\u001b[0m\u001b[0;34m,\u001b[0m\u001b[0;36m47\u001b[0m\u001b[0;34m]\u001b[0m\u001b[0;34m)\u001b[0m\u001b[0;34m\u001b[0m\u001b[0;34m\u001b[0m\u001b[0m\n\u001b[0m",
            "\u001b[0;32m<ipython-input-124-d04cdd26cc21>\u001b[0m in \u001b[0;36minsercion\u001b[0;34m(SM)\u001b[0m\n\u001b[1;32m      9\u001b[0m       \u001b[0mnew_max\u001b[0m \u001b[0;34m=\u001b[0m \u001b[0mSM\u001b[0m\u001b[0;34m.\u001b[0m\u001b[0mpop\u001b[0m\u001b[0;34m(\u001b[0m\u001b[0mindice\u001b[0m\u001b[0;34m)\u001b[0m \u001b[0;31m# elimino 100 [25,50,10]\u001b[0m\u001b[0;34m\u001b[0m\u001b[0;34m\u001b[0m\u001b[0m\n\u001b[1;32m     10\u001b[0m       \u001b[0;32mfor\u001b[0m \u001b[0mindice_insert\u001b[0m \u001b[0;32min\u001b[0m \u001b[0mrange\u001b[0m \u001b[0;34m(\u001b[0m\u001b[0mindice\u001b[0m\u001b[0;34m,\u001b[0m \u001b[0;36m1\u001b[0m\u001b[0;34m,\u001b[0m \u001b[0;34m-\u001b[0m\u001b[0;36m1\u001b[0m\u001b[0;34m)\u001b[0m\u001b[0;34m:\u001b[0m\u001b[0;34m\u001b[0m\u001b[0;34m\u001b[0m\u001b[0m\n\u001b[0;32m---> 11\u001b[0;31m         \u001b[0;32mif\u001b[0m \u001b[0mnew_max\u001b[0m \u001b[0;34m<\u001b[0m \u001b[0mSM\u001b[0m\u001b[0;34m[\u001b[0m\u001b[0mindice_insert\u001b[0m\u001b[0;34m]\u001b[0m \u001b[0;32mor\u001b[0m \u001b[0mindice_insert\u001b[0m \u001b[0;34m==\u001b[0m \u001b[0;36m0\u001b[0m\u001b[0;34m:\u001b[0m \u001b[0;31m#y\u001b[0m\u001b[0;34m\u001b[0m\u001b[0;34m\u001b[0m\u001b[0m\n\u001b[0m\u001b[1;32m     12\u001b[0m           \u001b[0mSM\u001b[0m\u001b[0;34m.\u001b[0m\u001b[0minsert\u001b[0m\u001b[0;34m(\u001b[0m\u001b[0mindice_insert\u001b[0m\u001b[0;34m,\u001b[0m \u001b[0mnew_max\u001b[0m\u001b[0;34m)\u001b[0m \u001b[0;31m#[100,25,50,10]\u001b[0m\u001b[0;34m\u001b[0m\u001b[0;34m\u001b[0m\u001b[0m\n\u001b[1;32m     13\u001b[0m   \u001b[0;32mreturn\u001b[0m \u001b[0mSM\u001b[0m\u001b[0;34m\u001b[0m\u001b[0;34m\u001b[0m\u001b[0m\n",
            "\u001b[0;31mIndexError\u001b[0m: list index out of range"
          ]
        }
      ]
    },
    {
      "cell_type": "code",
      "source": [],
      "metadata": {
        "id": "0f3pt8WGJjVt"
      },
      "execution_count": 110,
      "outputs": []
    }
  ]
}