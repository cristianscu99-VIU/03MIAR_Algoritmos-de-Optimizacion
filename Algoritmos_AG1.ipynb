{
  "nbformat": 4,
  "nbformat_minor": 0,
  "metadata": {
    "colab": {
      "provenance": [],
      "authorship_tag": "ABX9TyNLrob9wKp8iCwfztj1DlGb",
      "include_colab_link": true
    },
    "kernelspec": {
      "name": "python3",
      "display_name": "Python 3"
    },
    "language_info": {
      "name": "python"
    }
  },
  "cells": [
    {
      "cell_type": "markdown",
      "metadata": {
        "id": "view-in-github",
        "colab_type": "text"
      },
      "source": [
        "<a href=\"https://colab.research.google.com/github/cristianscu99-VIU/AOP-ACT-1/blob/main/Algoritmos_AG1.ipynb\" target=\"_parent\"><img src=\"https://colab.research.google.com/assets/colab-badge.svg\" alt=\"Open In Colab\"/></a>"
      ]
    },
    {
      "cell_type": "markdown",
      "source": [
        "# Algoritmos - Actividad Guiada 1\n"
      ],
      "metadata": {
        "id": "yr2U7b2mUBos"
      }
    },
    {
      "cell_type": "markdown",
      "source": [
        "Nombre: Cristian de la Santa Cruz Urbano\n",
        "URL: https://github.com/cristianscu99-VIU/AOP-ACT-1"
      ],
      "metadata": {
        "id": "0RgOFoSjiGP2"
      }
    },
    {
      "cell_type": "markdown",
      "source": [
        "## Torres de Hanoi con Divide y Vencerás"
      ],
      "metadata": {
        "id": "KZI425likMXB"
      }
    },
    {
      "cell_type": "code",
      "execution_count": 4,
      "metadata": {
        "colab": {
          "base_uri": "https://localhost:8080/"
        },
        "id": "lJTf8MGAT5lC",
        "outputId": "e08652b2-f0f7-461d-dd7a-e835459c039e"
      },
      "outputs": [
        {
          "output_type": "stream",
          "name": "stdout",
          "text": [
            "LLeva la ficha de la posición  1 hasta la posición  3\n",
            "LLeva la ficha de la posición  1 hasta la posición  2\n",
            "LLeva la ficha de la posición  3 hasta la posición  2\n",
            "LLeva la ficha de la posición  1 hasta la posición  3\n",
            "LLeva la ficha de la posición  2 hasta la posición  1\n",
            "LLeva la ficha de la posición  2 hasta la posición  3\n",
            "LLeva la ficha de la posición  1 hasta la posición  3\n"
          ]
        }
      ],
      "source": [
        "def Torres_Hanoi(N, desde, hasta):\n",
        "  if N == 1:\n",
        "    print(\"LLeva la ficha de la posición \",desde, \"hasta la posición \",hasta)\n",
        "\n",
        "  else:\n",
        "    # Torres_Hanoi (N-1, desde, 6-desde-hasta)\n",
        "    Torres_Hanoi(N-1, desde, 6-desde-hasta)\n",
        "    print(\"LLeva la ficha de la posición \",desde, \"hasta la posición \",hasta)\n",
        "    # Torres_Hanoi(N-1, 6-desde-hasta, hasta)\n",
        "    Torres_Hanoi(N-1, 6-desde-hasta, hasta)\n",
        "\n",
        "Torres_Hanoi(3,1,3)"
      ]
    },
    {
      "cell_type": "markdown",
      "source": [
        "O(2^k-1)"
      ],
      "metadata": {
        "id": "BPoqaDtoFYmC"
      }
    },
    {
      "cell_type": "code",
      "source": [
        "# Sucesión de Fibonacci\n"
      ],
      "metadata": {
        "id": "c8EFg1mRUZ8t"
      },
      "execution_count": null,
      "outputs": []
    },
    {
      "cell_type": "code",
      "source": [],
      "metadata": {
        "id": "jMqZODcylR8I"
      },
      "execution_count": null,
      "outputs": []
    }
  ]
}